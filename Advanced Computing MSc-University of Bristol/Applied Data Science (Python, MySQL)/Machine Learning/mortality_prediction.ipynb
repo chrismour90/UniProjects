{
 "cells": [
  {
   "cell_type": "code",
   "execution_count": 1,
   "metadata": {
    "collapsed": false
   },
   "outputs": [
    {
     "name": "stderr",
     "output_type": "stream",
     "text": [
      "/usr/local/Cellar/anaconda2/lib/python2.7/site-packages/sklearn/cross_validation.py:44: DeprecationWarning: This module was deprecated in version 0.18 in favor of the model_selection module into which all the refactored classes and functions are moved. Also note that the interface of the new CV iterators are different from that of this module. This module will be removed in 0.20.\n",
      "  \"This module will be removed in 0.20.\", DeprecationWarning)\n"
     ]
    },
    {
     "data": {
      "text/plain": [
       "(10356, 291)"
      ]
     },
     "execution_count": 1,
     "metadata": {},
     "output_type": "execute_result"
    }
   ],
   "source": [
    "import pandas as pd\n",
    "import numpy as np\n",
    "from pandas import read_csv\n",
    "from sklearn.feature_selection import RFE\n",
    "from sklearn.linear_model import LogisticRegression\n",
    "from pandas.tools.plotting import scatter_matrix\n",
    "import matplotlib.pyplot as plt\n",
    "from sklearn import cross_validation\n",
    "from sklearn.metrics import classification_report\n",
    "from sklearn.metrics import confusion_matrix\n",
    "from sklearn.metrics import accuracy_score\n",
    "from sklearn.linear_model import LogisticRegression\n",
    "from sklearn.tree import DecisionTreeClassifier\n",
    "from sklearn.neighbors import KNeighborsClassifier\n",
    "from sklearn.discriminant_analysis import LinearDiscriminantAnalysis\n",
    "from sklearn.naive_bayes import GaussianNB\n",
    "from sklearn.svm import SVC\n",
    "from sklearn import svm\n",
    "# load data\n",
    "data = read_csv('final2.csv')\n",
    "data.shape"
   ]
  },
  {
   "cell_type": "code",
   "execution_count": 2,
   "metadata": {
    "collapsed": false
   },
   "outputs": [
    {
     "data": {
      "text/html": [
       "<div>\n",
       "<table border=\"1\" class=\"dataframe\">\n",
       "  <thead>\n",
       "    <tr style=\"text-align: right;\">\n",
       "      <th></th>\n",
       "      <th>Heart_Rate</th>\n",
       "      <th>Heart_rate_Alarm_High</th>\n",
       "      <th>Heart_Rate_Alarm_Low</th>\n",
       "      <th>Arterial_Blood_Pressure_systolic</th>\n",
       "      <th>Arterial_Blood_Pressure_diastolic</th>\n",
       "      <th>Arterial_Blood_Pressure_mean</th>\n",
       "      <th>Arterial_Blood_Pressure_Alarm_Low</th>\n",
       "      <th>Arterial_Blood_Pressure_Alarm_High</th>\n",
       "      <th>Pulmonary_Artery_Pressure_systolic</th>\n",
       "      <th>Pulmonary_Artery_Pressure_diastolic</th>\n",
       "      <th>...</th>\n",
       "      <th>CO/CI_Change</th>\n",
       "      <th>Stroke_Volume_(SV_NICOM)</th>\n",
       "      <th>Stroke_Volume_Index_(SVI_NICOM)</th>\n",
       "      <th>SVI_Change</th>\n",
       "      <th>TFCd_(NICOM)</th>\n",
       "      <th>TFCd0_(NICOM)</th>\n",
       "      <th>Total_Peripheral_Resistance_(TPR)_(NICOM)</th>\n",
       "      <th>Total_Peripheral_Resistance_Index_(TPRI)_(NICOM)</th>\n",
       "      <th>Alsius_Bath_Temp</th>\n",
       "      <th>B_AGE</th>\n",
       "    </tr>\n",
       "  </thead>\n",
       "  <tbody>\n",
       "    <tr>\n",
       "      <th>0</th>\n",
       "      <td>55.86</td>\n",
       "      <td>120.00</td>\n",
       "      <td>40.00</td>\n",
       "      <td>0.0</td>\n",
       "      <td>0.00</td>\n",
       "      <td>0.00</td>\n",
       "      <td>0</td>\n",
       "      <td>0</td>\n",
       "      <td>0</td>\n",
       "      <td>0</td>\n",
       "      <td>...</td>\n",
       "      <td>0</td>\n",
       "      <td>0</td>\n",
       "      <td>0</td>\n",
       "      <td>0</td>\n",
       "      <td>0</td>\n",
       "      <td>0</td>\n",
       "      <td>0</td>\n",
       "      <td>0</td>\n",
       "      <td>0</td>\n",
       "      <td>300</td>\n",
       "    </tr>\n",
       "    <tr>\n",
       "      <th>1</th>\n",
       "      <td>85.59</td>\n",
       "      <td>117.50</td>\n",
       "      <td>50.00</td>\n",
       "      <td>0.0</td>\n",
       "      <td>0.00</td>\n",
       "      <td>253.80</td>\n",
       "      <td>0</td>\n",
       "      <td>0</td>\n",
       "      <td>0</td>\n",
       "      <td>0</td>\n",
       "      <td>...</td>\n",
       "      <td>0</td>\n",
       "      <td>0</td>\n",
       "      <td>0</td>\n",
       "      <td>0</td>\n",
       "      <td>0</td>\n",
       "      <td>0</td>\n",
       "      <td>0</td>\n",
       "      <td>0</td>\n",
       "      <td>0</td>\n",
       "      <td>69</td>\n",
       "    </tr>\n",
       "    <tr>\n",
       "      <th>2</th>\n",
       "      <td>74.98</td>\n",
       "      <td>119.17</td>\n",
       "      <td>56.25</td>\n",
       "      <td>0.0</td>\n",
       "      <td>0.00</td>\n",
       "      <td>0.00</td>\n",
       "      <td>0</td>\n",
       "      <td>0</td>\n",
       "      <td>0</td>\n",
       "      <td>0</td>\n",
       "      <td>...</td>\n",
       "      <td>0</td>\n",
       "      <td>0</td>\n",
       "      <td>0</td>\n",
       "      <td>0</td>\n",
       "      <td>0</td>\n",
       "      <td>0</td>\n",
       "      <td>0</td>\n",
       "      <td>0</td>\n",
       "      <td>0</td>\n",
       "      <td>62</td>\n",
       "    </tr>\n",
       "    <tr>\n",
       "      <th>3</th>\n",
       "      <td>90.27</td>\n",
       "      <td>120.53</td>\n",
       "      <td>54.79</td>\n",
       "      <td>186.3</td>\n",
       "      <td>122.37</td>\n",
       "      <td>142.71</td>\n",
       "      <td>90</td>\n",
       "      <td>160</td>\n",
       "      <td>0</td>\n",
       "      <td>0</td>\n",
       "      <td>...</td>\n",
       "      <td>0</td>\n",
       "      <td>0</td>\n",
       "      <td>0</td>\n",
       "      <td>0</td>\n",
       "      <td>0</td>\n",
       "      <td>0</td>\n",
       "      <td>0</td>\n",
       "      <td>0</td>\n",
       "      <td>0</td>\n",
       "      <td>23</td>\n",
       "    </tr>\n",
       "    <tr>\n",
       "      <th>4</th>\n",
       "      <td>77.35</td>\n",
       "      <td>119.65</td>\n",
       "      <td>54.88</td>\n",
       "      <td>142.5</td>\n",
       "      <td>45.50</td>\n",
       "      <td>76.50</td>\n",
       "      <td>86</td>\n",
       "      <td>172</td>\n",
       "      <td>0</td>\n",
       "      <td>0</td>\n",
       "      <td>...</td>\n",
       "      <td>0</td>\n",
       "      <td>0</td>\n",
       "      <td>0</td>\n",
       "      <td>0</td>\n",
       "      <td>0</td>\n",
       "      <td>0</td>\n",
       "      <td>0</td>\n",
       "      <td>0</td>\n",
       "      <td>0</td>\n",
       "      <td>69</td>\n",
       "    </tr>\n",
       "  </tbody>\n",
       "</table>\n",
       "<p>5 rows × 288 columns</p>\n",
       "</div>"
      ],
      "text/plain": [
       "   Heart_Rate  Heart_rate_Alarm_High  Heart_Rate_Alarm_Low  \\\n",
       "0       55.86                 120.00                 40.00   \n",
       "1       85.59                 117.50                 50.00   \n",
       "2       74.98                 119.17                 56.25   \n",
       "3       90.27                 120.53                 54.79   \n",
       "4       77.35                 119.65                 54.88   \n",
       "\n",
       "   Arterial_Blood_Pressure_systolic  Arterial_Blood_Pressure_diastolic  \\\n",
       "0                               0.0                               0.00   \n",
       "1                               0.0                               0.00   \n",
       "2                               0.0                               0.00   \n",
       "3                             186.3                             122.37   \n",
       "4                             142.5                              45.50   \n",
       "\n",
       "   Arterial_Blood_Pressure_mean  Arterial_Blood_Pressure_Alarm_Low  \\\n",
       "0                          0.00                                  0   \n",
       "1                        253.80                                  0   \n",
       "2                          0.00                                  0   \n",
       "3                        142.71                                 90   \n",
       "4                         76.50                                 86   \n",
       "\n",
       "   Arterial_Blood_Pressure_Alarm_High  Pulmonary_Artery_Pressure_systolic  \\\n",
       "0                                   0                                   0   \n",
       "1                                   0                                   0   \n",
       "2                                   0                                   0   \n",
       "3                                 160                                   0   \n",
       "4                                 172                                   0   \n",
       "\n",
       "   Pulmonary_Artery_Pressure_diastolic  ...    CO/CI_Change  \\\n",
       "0                                    0  ...               0   \n",
       "1                                    0  ...               0   \n",
       "2                                    0  ...               0   \n",
       "3                                    0  ...               0   \n",
       "4                                    0  ...               0   \n",
       "\n",
       "   Stroke_Volume_(SV_NICOM)  Stroke_Volume_Index_(SVI_NICOM)  SVI_Change  \\\n",
       "0                         0                                0           0   \n",
       "1                         0                                0           0   \n",
       "2                         0                                0           0   \n",
       "3                         0                                0           0   \n",
       "4                         0                                0           0   \n",
       "\n",
       "   TFCd_(NICOM)  TFCd0_(NICOM)  Total_Peripheral_Resistance_(TPR)_(NICOM)  \\\n",
       "0             0              0                                          0   \n",
       "1             0              0                                          0   \n",
       "2             0              0                                          0   \n",
       "3             0              0                                          0   \n",
       "4             0              0                                          0   \n",
       "\n",
       "   Total_Peripheral_Resistance_Index_(TPRI)_(NICOM)  Alsius_Bath_Temp  B_AGE  \n",
       "0                                                 0                 0    300  \n",
       "1                                                 0                 0     69  \n",
       "2                                                 0                 0     62  \n",
       "3                                                 0                 0     23  \n",
       "4                                                 0                 0     69  \n",
       "\n",
       "[5 rows x 288 columns]"
      ]
     },
     "execution_count": 2,
     "metadata": {},
     "output_type": "execute_result"
    }
   ],
   "source": [
    "x = data[list(range(288))]\n",
    "y = data[[288]]\n",
    "x.head()"
   ]
  },
  {
   "cell_type": "code",
   "execution_count": 3,
   "metadata": {
    "collapsed": false
   },
   "outputs": [
    {
     "data": {
      "text/html": [
       "<div>\n",
       "<table border=\"1\" class=\"dataframe\">\n",
       "  <thead>\n",
       "    <tr style=\"text-align: right;\">\n",
       "      <th></th>\n",
       "      <th>D_EXPIRE_FLAG</th>\n",
       "    </tr>\n",
       "  </thead>\n",
       "  <tbody>\n",
       "    <tr>\n",
       "      <th>0</th>\n",
       "      <td>1</td>\n",
       "    </tr>\n",
       "    <tr>\n",
       "      <th>1</th>\n",
       "      <td>0</td>\n",
       "    </tr>\n",
       "    <tr>\n",
       "      <th>2</th>\n",
       "      <td>0</td>\n",
       "    </tr>\n",
       "    <tr>\n",
       "      <th>3</th>\n",
       "      <td>1</td>\n",
       "    </tr>\n",
       "    <tr>\n",
       "      <th>4</th>\n",
       "      <td>1</td>\n",
       "    </tr>\n",
       "  </tbody>\n",
       "</table>\n",
       "</div>"
      ],
      "text/plain": [
       "   D_EXPIRE_FLAG\n",
       "0              1\n",
       "1              0\n",
       "2              0\n",
       "3              1\n",
       "4              1"
      ]
     },
     "execution_count": 3,
     "metadata": {},
     "output_type": "execute_result"
    }
   ],
   "source": [
    "y.head()"
   ]
  },
  {
   "cell_type": "code",
   "execution_count": 4,
   "metadata": {
    "collapsed": false
   },
   "outputs": [],
   "source": [
    "newy=[]\n",
    "for item in range(len(y)):\n",
    "    if(y.iloc[item,0]==0):\n",
    "        newy.append(0)\n",
    "    if(y.iloc[item,0]==1):\n",
    "        newy.append(1)\n",
    "\n"
   ]
  },
  {
   "cell_type": "code",
   "execution_count": 5,
   "metadata": {
    "collapsed": false
   },
   "outputs": [
    {
     "name": "stdout",
     "output_type": "stream",
     "text": [
      "10356\n",
      "float64\n",
      "(10356, 288)\n",
      "10356\n"
     ]
    }
   ],
   "source": [
    "#import the \n",
    "print len(newy)\n",
    "from sklearn import preprocessing\n",
    "name=np.array(x.columns)\n",
    "xarray=np.array(x)\n",
    "\n",
    "#范围0-1缩放标准化\n",
    "\n",
    "min_max_scaler = preprocessing.MinMaxScaler()\n",
    "\n",
    "X_scaler=min_max_scaler.fit_transform(x)\n",
    "\n",
    "#查看特征的维度\n",
    "\n",
    "print X_scaler.dtype\n",
    "\n",
    "print x.shape\n",
    "print len(newy)"
   ]
  },
  {
   "cell_type": "code",
   "execution_count": 6,
   "metadata": {
    "collapsed": false
   },
   "outputs": [
    {
     "name": "stdout",
     "output_type": "stream",
     "text": [
      "(7767, 288)\n",
      "(2589, 288)\n"
     ]
    }
   ],
   "source": [
    "from sklearn.cross_validation import train_test_split\n",
    "X_train, X_test, y_train, y_test = train_test_split(X_scaler, newy, random_state=1)\n",
    "\n",
    "\n",
    "print X_train.shape\n",
    "print X_test.shape\n"
   ]
  },
  {
   "cell_type": "markdown",
   "metadata": {
    "collapsed": false
   },
   "source": [
    "from sklearn import svm\n",
    "from sklearn.pipeline import Pipeline\n",
    "from sklearn import metrics\n",
    "from sklearn.feature_selection import SelectKBest, chi2\n",
    "from sklearn.linear_model import SGDClassifier\n",
    "from sklearn.naive_bayes import MultinomialNB\n",
    "\n",
    "\n",
    "# generate some data to play with\n",
    "\n",
    "\n",
    "\n",
    "\n",
    "\n",
    "anova_filter = SelectKBest(chi2, k=5)\n",
    "print anova_filter\n",
    "#clf=SGDClassifier(loss=\"hinge\", penalty=\"l2\")\n",
    "clf = MultinomialNB()\n",
    "'''\n",
    "classification algorithm: \n",
    "SVM,\n",
    "SGD(Stochastic Gradient Descen),\n",
    "KNN(Nearest Neighbors Classification)\n",
    "MultinomialNB(multi naive bayes)\n",
    "'''\n",
    "\n",
    "anova_svm = Pipeline([('anova', anova_filter), ('svc', clf)])\n",
    "# You can set the parameters using the names issued\n",
    "# For instance, fit using a k of 10 in the SelectKBest\n",
    "# and a parameter 'C' of the svm\n",
    "anova_svm.fit(X_train, y_train)#可以使用‘_’符号直接链接某个属性\n",
    "print anova_svm.named_steps  #实际上是一个字典\n",
    "print type(anova_svm)\n",
    "prediction = anova_svm.predict(X_test)\n",
    "score = metrics.accuracy_score(y_test, prediction)\n",
    "print prediction,type(prediction)\n",
    "print score\n"
   ]
  },
  {
   "cell_type": "markdown",
   "metadata": {
    "collapsed": true
   },
   "source": [
    "# Test options and evaluation metric\n",
    "num_folds = 10\n",
    "num_instances = len(X_train)\n",
    "seed = 7\n",
    "scoring = 'accuracy'"
   ]
  },
  {
   "cell_type": "markdown",
   "metadata": {
    "collapsed": false
   },
   "source": [
    "# Spot Check Algorithms\n",
    "from sklearn.tree import DecisionTreeRegressor\n",
    "\n",
    "\n",
    "\n",
    "models = []\n",
    "models.append(('DecisionTree', DecisionTreeRegressor()))\n",
    "models.append(('LR', LogisticRegression()))\n",
    "models.append(('LDA', LinearDiscriminantAnalysis()))\n",
    "models.append(('KNN', KNeighborsClassifier()))\n",
    "models.append(('CART', DecisionTreeClassifier()))\n",
    "models.append(('NB', GaussianNB()))\n",
    "models.append(('linearSVM', svm.LinearSVC()))\n",
    "\n",
    "# evaluate each model in turn\n",
    "results = []\n",
    "names = []\n",
    "for name, model in models:\n",
    "    kfold = cross_validation.KFold(n=num_instances, n_folds=num_folds, random_state=seed)\n",
    "    cv_results = cross_validation.cross_val_score(model, X_train, y_train, cv=kfold, scoring=scoring)\n",
    "    results.append(cv_results)\n",
    "    names.append(name)\n",
    "    msg = \"%s: %f (%f)\" % (name, cv_results.mean(), cv_results.std())\n",
    "    print(msg)"
   ]
  },
  {
   "cell_type": "markdown",
   "metadata": {
    "collapsed": false
   },
   "source": [
    "# Compare Algorithms\n",
    "fig = plt.figure()\n",
    "fig.suptitle('Algorithm Comparison')\n",
    "ax = fig.add_subplot(111)\n",
    "plt.boxplot(results)\n",
    "ax.set_xticklabels(names)\n",
    "\n",
    "plt.savefig('1.png')\n",
    "plt.show()"
   ]
  },
  {
   "cell_type": "code",
   "execution_count": 33,
   "metadata": {
    "collapsed": false,
    "scrolled": true
   },
   "outputs": [
    {
     "name": "stdout",
     "output_type": "stream",
     "text": [
      "recall\n",
      "DecisionTree: 0.496807\n",
      "LR: 0.399745\n",
      "LDA: 0.415070\n",
      "KNN: 0.401022\n",
      "CART: 0.490421\n",
      "NB: 0.149425\n",
      "linearSVM: 0.401022\n"
     ]
    }
   ],
   "source": [
    "# Spot Check Algorithms\n",
    "from sklearn.tree import DecisionTreeRegressor\n",
    "from sklearn.metrics import precision_score,recall_score\n",
    "from sklearn import metrics\n",
    "\n",
    "\n",
    "models = []\n",
    "models.append(('DecisionTree', DecisionTreeRegressor()))\n",
    "models.append(('LR', LogisticRegression()))\n",
    "models.append(('LDA', LinearDiscriminantAnalysis()))\n",
    "models.append(('KNN', KNeighborsClassifier()))\n",
    "models.append(('CART', DecisionTreeClassifier()))\n",
    "models.append(('NB', GaussianNB()))\n",
    "models.append(('linearSVM', svm.LinearSVC()))\n",
    "\n",
    "# evaluate each model in turn\n",
    "\n",
    "\n",
    "recalls=[]\n",
    "\n",
    "names = []\n",
    "print \"recall\"\n",
    "for name, model in models:\n",
    "    clf=model.fit(X_train,y_train)\n",
    "    y_pred=clf.predict(X_test)\n",
    "    rec =recall_score(y_test, y_pred)\n",
    "    f_pos, t_pos, thresh = metrics.roc_curve(y_test, y_pred)\n",
    "    auc_area = metrics.auc(f_pos, t_pos)\n",
    "    #plt.plot(f_pos, t_pos, lw=1, label='%s AUC = %.2f' % (name,auc_area))\n",
    "    recalls.append(rec)\n",
    "    names.append(name)\n",
    "    msg = \"%s: %f\" % (name, rec)\n",
    "    print(msg)\n",
    "\n",
    "\n"
   ]
  },
  {
   "cell_type": "code",
   "execution_count": 48,
   "metadata": {
    "collapsed": false
   },
   "outputs": [
    {
     "name": "stdout",
     "output_type": "stream",
     "text": [
      "precision\n",
      "DecisionTree: 0.518672\n",
      "LR: 0.683406\n",
      "LDA: 0.681342\n",
      "KNN: 0.564748\n",
      "CART: 0.529810\n",
      "NB: 0.582090\n",
      "linearSVM: 0.697778\n"
     ]
    }
   ],
   "source": [
    "print \"precision\"\n",
    "precisions = []\n",
    "names = []\n",
    "for name, model in models:\n",
    "    clf=model.fit(X_train,y_train)\n",
    "    pred=clf.predict(X_test)\n",
    "    precision =precision_score(y_test, pred)\n",
    "    precisions.append(precision)\n",
    "    names.append(name)\n",
    "    msg = \"%s: %f\" % (name, precision)\n",
    "    print(msg)"
   ]
  },
  {
   "cell_type": "code",
   "execution_count": 45,
   "metadata": {
    "collapsed": false
   },
   "outputs": [
    {
     "name": "stdout",
     "output_type": "stream",
     "text": [
      "f1socre\n",
      "DecisionTree: 0.497396\n",
      "LR: 0.504432\n",
      "LDA: 0.515873\n",
      "KNN: 0.469007\n",
      "CART: 0.502326\n",
      "NB: 0.237805\n",
      "linearSVM: 0.509327\n"
     ]
    }
   ],
   "source": [
    "from sklearn.metrics import f1_score\n",
    "print \"f1socre\"\n",
    "f1socres =[]\n",
    "names = []\n",
    "for name, model in models:\n",
    "    clf=model.fit(X_train,y_train)\n",
    "    pred=clf.predict(X_test)\n",
    "    f1=f1_score(y_test, pred)\n",
    "    f1socres.append(f1)\n",
    "    names.append(name)\n",
    "    msg = \"%s: %f\" % (name, f1)\n",
    "    print(msg)"
   ]
  },
  {
   "cell_type": "code",
   "execution_count": 64,
   "metadata": {
    "collapsed": false
   },
   "outputs": [],
   "source": [
    "def autolabel(rects): \n",
    "    for rect in rects:\n",
    "        height = rect.get_height()\n",
    "        plt.text(rect.get_x()+rect.get_width()/2., 1.03*height, \"%s\" % float(height))\n",
    "itmes=[]\n",
    "for item in f1socres:\n",
    "    itmes.append(round(item,3))\n",
    "\n",
    "fig = plt.figure()  \n",
    "number=[0,1,2,3,4,5,6]\n",
    "rect=plt.bar(number,itmes)  \n",
    "plt.xticks(number, names, rotation=0)\n",
    "plt.ylabel(\"f1socres\")  \n",
    "plt.title(\"f1socres bar chart\")\n",
    "plt.legend((rect,),(u\"图例\",))\n",
    "autolabel(rect)\n",
    "plt.savefig(\"f1socres.jpg\")"
   ]
  }
 ],
 "metadata": {
  "kernelspec": {
   "display_name": "Python 2",
   "language": "python",
   "name": "python2"
  },
  "language_info": {
   "codemirror_mode": {
    "name": "ipython",
    "version": 2
   },
   "file_extension": ".py",
   "mimetype": "text/x-python",
   "name": "python",
   "nbconvert_exporter": "python",
   "pygments_lexer": "ipython2",
   "version": "2.7.13"
  }
 },
 "nbformat": 4,
 "nbformat_minor": 2
}
